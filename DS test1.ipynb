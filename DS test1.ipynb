{
 "cells": [
  {
   "cell_type": "markdown",
   "id": "b7777949",
   "metadata": {},
   "source": [
    "# Training test 1 - to push the notebook to github\n",
    "def Notebook():\n"
   ]
  },
  {
   "cell_type": "code",
   "execution_count": 2,
   "id": "da1bad04",
   "metadata": {},
   "outputs": [],
   "source": [
    "def Notebook():\n",
    "    print(\"This is a test push into Git\")\n",
    "    Notebook()"
   ]
  },
  {
   "cell_type": "code",
   "execution_count": null,
   "id": "fa89b812",
   "metadata": {},
   "outputs": [],
   "source": []
  },
  {
   "cell_type": "code",
   "execution_count": null,
   "id": "757af103",
   "metadata": {},
   "outputs": [],
   "source": []
  }
 ],
 "metadata": {
  "kernelspec": {
   "display_name": "Python 3 (ipykernel)",
   "language": "python",
   "name": "python3"
  },
  "language_info": {
   "codemirror_mode": {
    "name": "ipython",
    "version": 3
   },
   "file_extension": ".py",
   "mimetype": "text/x-python",
   "name": "python",
   "nbconvert_exporter": "python",
   "pygments_lexer": "ipython3",
   "version": "3.9.7"
  }
 },
 "nbformat": 4,
 "nbformat_minor": 5
}
